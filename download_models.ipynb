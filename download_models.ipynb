{
 "cells": [
  {
   "cell_type": "code",
   "execution_count": null,
   "metadata": {},
   "outputs": [],
   "source": [
    "import platform\n",
    "import os\n",
    "sys = platform.system()\n",
    "\n",
    "if sys == 'Windows':\n",
    "    if os.path.exists(\"pretrained_models\"):\n",
    "        !cd pretrained_models && curl -o Shinkai.pth http://vllab1.ucmerced.edu/~yli62/CartoonGAN/pytorch_pth/Shinkai_net_G_float.pth \n",
    "        !cd pretrained_models && curl -o Paprika.pth http://vllab1.ucmerced.edu/~yli62/CartoonGAN/pytorch_pth/Paprika_net_G_float.pth\t\n",
    "        !cd pretrained_models && curl -o Hosoda.pth http://vllab1.ucmerced.edu/~yli62/CartoonGAN/pytorch_pth/Hosoda_net_G_float.pth \n",
    "        !cd pretrained_models && curl -o Hayao.pth http://vllab1.ucmerced.edu/~yli62/CartoonGAN/pytorch_pth/Hayao_net_G_float.pth \n",
    "    else: \n",
    "        !mkdir pretrained_models \n",
    "        !cd pretrained_models && curl -o Shinkai.pth http://vllab1.ucmerced.edu/~yli62/CartoonGAN/pytorch_pth/Shinkai_net_G_float.pth \n",
    "        !cd pretrained_models && curl -o Paprika.pth http://vllab1.ucmerced.edu/~yli62/CartoonGAN/pytorch_pth/Paprika_net_G_float.pth\t\n",
    "        !cd pretrained_models && curl -o Hosoda.pth http://vllab1.ucmerced.edu/~yli62/CartoonGAN/pytorch_pth/Hosoda_net_G_float.pth \n",
    "        !cd pretrained_models && curl -o Hayao.pth http://vllab1.ucmerced.edu/~yli62/CartoonGAN/pytorch_pth/Hayao_net_G_float.pth "
   ]
  }
 ],
 "metadata": {
  "kernelspec": {
   "display_name": "Python 3 (ipykernel)",
   "language": "python",
   "name": "python3"
  }
 },
 "nbformat": 4,
 "nbformat_minor": 2
}
